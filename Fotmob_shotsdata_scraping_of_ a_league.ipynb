{
 "cells": [
  {
   "cell_type": "code",
   "execution_count": 1,
   "id": "ebe0c6e2-4e42-4e20-8ad8-172d035d889f",
   "metadata": {},
   "outputs": [],
   "source": [
    "import pandas as pd\n",
    "import matplotlib.pyplot as plt\n",
    "import numpy as np\n",
    "from matplotlib.markers import MarkerStyle\n",
    "from mplsoccer.pitch import Pitch\n",
    "from mplsoccer import Pitch, VerticalPitch\n",
    "\n",
    "from highlight_text import ax_text, fig_text\n",
    "from PIL import Image\n",
    "from mplsoccer import add_image\n",
    "from urllib.request import urlopen\n",
    "\n",
    "import requests\n",
    "\n",
    "pd.set_option('display.max_columns', None)"
   ]
  },
  {
   "cell_type": "code",
   "execution_count": null,
   "id": "fd82bccd-d430-48ca-8431-cfc57bc74732",
   "metadata": {},
   "outputs": [],
   "source": [
    "# Define the function to scrape shot data for a given matchId\n",
    "def scrape_shots(mi):\n",
    "    params = {'matchId': mi}\n",
    "    response = requests.get('https://www.fotmob.com/api/matchDetails', params=params)\n",
    "    data = response.json()\n",
    "    shotmap = data['content']['shotmap']['shots']\n",
    "    shots_df = pd.DataFrame(shotmap)\n",
    "    shots_df['matchId'] = mi\n",
    "    return shots_df\n",
    "\n",
    "# Read the CSV containing the team names according to their respective Fotmob teamId\n",
    "df_teamNameId = pd.read_csv(r\"D:\\FData\\club_teams_logo\\teams_name_and_id.csv\")\n",
    "\n",
    "# Define your list of matchIds (mi)\n",
    "first_matchId = 4205343\n",
    "match_ids = [first_matchId + i for i in range(380)]  \n",
    "\n",
    "# Initialize an empty list to store individual DataFrames\n",
    "all_shots_dfs = []\n",
    "\n",
    "# Loop through each matchId, scrape the shots data, merge with team names, and append to the list\n",
    "for fotmob_matchId in match_ids:\n",
    "    shots_df = scrape_shots(fotmob_matchId)\n",
    "    shots_df = shots_df.merge(df_teamNameId[['teamId', 'teamName']], on='teamId', how='left')\n",
    "    \n",
    "    # Adding the opposition team name column\n",
    "    team1 = shots_df['teamName'].unique()[0]\n",
    "    team2 = shots_df['teamName'].unique()[1]\n",
    "    \n",
    "    def get_opposite_teamName(team):\n",
    "        if team == team1:\n",
    "            return team2\n",
    "        elif team == team2:\n",
    "            return team1\n",
    "        else:\n",
    "            return None\n",
    "\n",
    "    # Apply the function to create the new column\n",
    "    shots_df['oppositeTeam'] = shots_df['teamName'].apply(get_opposite_teamName)\n",
    "    \n",
    "    # Append the DataFrame to the list\n",
    "    all_shots_dfs.append(shots_df)\n",
    "\n",
    "# Concatenate all DataFrames in the list into a single DataFrame\n",
    "final_shots_df = pd.concat(all_shots_dfs, ignore_index=True)\n",
    "\n",
    "# Cross cheking if all the data has extracted succesfully or not\n",
    "print(len(final_shots_df))"
   ]
  },
  {
   "cell_type": "code",
   "execution_count": null,
   "id": "efaef5dd-ce63-4e86-b6a8-2c0592305059",
   "metadata": {},
   "outputs": [],
   "source": [
    "# saving the data in a csv\n",
    "final_shots_df.to_csv(\"D:\\FData\\LaLiga\\LaLiga2023_24_all_shots.csv\")"
   ]
  }
 ],
 "metadata": {
  "kernelspec": {
   "display_name": "Python 3 (ipykernel)",
   "language": "python",
   "name": "python3"
  },
  "language_info": {
   "codemirror_mode": {
    "name": "ipython",
    "version": 3
   },
   "file_extension": ".py",
   "mimetype": "text/x-python",
   "name": "python",
   "nbconvert_exporter": "python",
   "pygments_lexer": "ipython3",
   "version": "3.11.7"
  }
 },
 "nbformat": 4,
 "nbformat_minor": 5
}
